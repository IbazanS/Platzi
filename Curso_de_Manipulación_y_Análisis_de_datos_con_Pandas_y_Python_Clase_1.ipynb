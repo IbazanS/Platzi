{
  "nbformat": 4,
  "nbformat_minor": 0,
  "metadata": {
    "colab": {
      "name": "Curso de Manipulación y Análisis de datos con Pandas y Python-Clase 1.ipynb",
      "provenance": [],
      "authorship_tag": "ABX9TyNWwrm8WNnIB9OVSo6/8rp5",
      "include_colab_link": true
    },
    "kernelspec": {
      "name": "python3",
      "display_name": "Python 3"
    }
  },
  "cells": [
    {
      "cell_type": "markdown",
      "metadata": {
        "id": "view-in-github",
        "colab_type": "text"
      },
      "source": [
        "<a href=\"https://colab.research.google.com/github/IbazanS/Platzi/blob/main/Curso_de_Manipulaci%C3%B3n_y_An%C3%A1lisis_de_datos_con_Pandas_y_Python_Clase_1.ipynb\" target=\"_parent\"><img src=\"https://colab.research.google.com/assets/colab-badge.svg\" alt=\"Open In Colab\"/></a>"
      ]
    },
    {
      "cell_type": "markdown",
      "metadata": {
        "id": "MNvoy5R30Ts3"
      },
      "source": [
        "Curso de Manipulación y Análisis de datos con Pandas y Python: Clase 1."
      ]
    },
    {
      "cell_type": "code",
      "metadata": {
        "colab": {
          "base_uri": "https://localhost:8080/"
        },
        "id": "MecyDDvq0HtS",
        "outputId": "9ed10c62-daf1-4c15-ea2b-f84a281f33ac"
      },
      "source": [
        "10+3\n"
      ],
      "execution_count": null,
      "outputs": [
        {
          "output_type": "execute_result",
          "data": {
            "text/plain": [
              "13"
            ]
          },
          "metadata": {
            "tags": []
          },
          "execution_count": 1
        }
      ]
    },
    {
      "cell_type": "code",
      "metadata": {
        "colab": {
          "base_uri": "https://localhost:8080/"
        },
        "id": "ZFYGTvJg0KEC",
        "outputId": "b321f848-cf0d-4a5c-a87c-5ec45c5655ca"
      },
      "source": [
        "2*3"
      ],
      "execution_count": null,
      "outputs": [
        {
          "output_type": "execute_result",
          "data": {
            "text/plain": [
              "6"
            ]
          },
          "metadata": {
            "tags": []
          },
          "execution_count": 2
        }
      ]
    },
    {
      "cell_type": "code",
      "metadata": {
        "id": "uvavE5Dp0N8r"
      },
      "source": [
        "#Declarar variable\n",
        "x=12\n"
      ],
      "execution_count": null,
      "outputs": []
    },
    {
      "cell_type": "code",
      "metadata": {
        "id": "_kG5RAkO0QWT"
      },
      "source": [
        "y=15"
      ],
      "execution_count": null,
      "outputs": []
    },
    {
      "cell_type": "code",
      "metadata": {
        "colab": {
          "base_uri": "https://localhost:8080/"
        },
        "id": "O9ZqMAEE0RHc",
        "outputId": "d47090bb-305d-4b3a-d26d-47d630743541"
      },
      "source": [
        "x+y"
      ],
      "execution_count": null,
      "outputs": [
        {
          "output_type": "execute_result",
          "data": {
            "text/plain": [
              "27"
            ]
          },
          "metadata": {
            "tags": []
          },
          "execution_count": 3
        }
      ]
    },
    {
      "cell_type": "code",
      "metadata": {
        "id": "qvFQE_Vl0SRQ"
      },
      "source": [
        "x = 'Hola'"
      ],
      "execution_count": null,
      "outputs": []
    },
    {
      "cell_type": "code",
      "metadata": {
        "id": "ZgL7yXpD0eOE"
      },
      "source": [
        "y = 'Mundo'"
      ],
      "execution_count": null,
      "outputs": []
    },
    {
      "cell_type": "code",
      "metadata": {
        "colab": {
          "base_uri": "https://localhost:8080/",
          "height": 36
        },
        "id": "vcOmJbsT0gBi",
        "outputId": "8ba42d51-efc7-42b3-be98-28c421794e58"
      },
      "source": [
        "x + ' ' + y"
      ],
      "execution_count": null,
      "outputs": [
        {
          "output_type": "execute_result",
          "data": {
            "application/vnd.google.colaboratory.intrinsic+json": {
              "type": "string"
            },
            "text/plain": [
              "'Hola Mundo'"
            ]
          },
          "metadata": {
            "tags": []
          },
          "execution_count": 9
        }
      ]
    },
    {
      "cell_type": "markdown",
      "metadata": {
        "id": "W6T-4Q5a0krX"
      },
      "source": [
        "Listas:"
      ]
    },
    {
      "cell_type": "code",
      "metadata": {
        "colab": {
          "base_uri": "https://localhost:8080/"
        },
        "id": "bvohKSjr0h3L",
        "outputId": "6c135856-33ab-45e9-e91a-e5a56715ffef"
      },
      "source": [
        "[1, 2, 3, 4]"
      ],
      "execution_count": null,
      "outputs": [
        {
          "output_type": "execute_result",
          "data": {
            "text/plain": [
              "[1, 2, 3, 4]"
            ]
          },
          "metadata": {
            "tags": []
          },
          "execution_count": 10
        }
      ]
    },
    {
      "cell_type": "code",
      "metadata": {
        "colab": {
          "base_uri": "https://localhost:8080/"
        },
        "id": "8tFrlgKk0pZr",
        "outputId": "326b3c24-716a-4604-eddb-50051274cddb"
      },
      "source": [
        "#Ojo que con las listas no se puede hacer operaciones matemáticos\n",
        "[1, 2, 3, 4] + [5,6]"
      ],
      "execution_count": null,
      "outputs": [
        {
          "output_type": "execute_result",
          "data": {
            "text/plain": [
              "[1, 2, 3, 4, 5, 6]"
            ]
          },
          "metadata": {
            "tags": []
          },
          "execution_count": 12
        }
      ]
    },
    {
      "cell_type": "code",
      "metadata": {
        "id": "YakdOzQA0tOd"
      },
      "source": [
        "lista = [1, 2, 3, 4, 5, 6]"
      ],
      "execution_count": null,
      "outputs": []
    },
    {
      "cell_type": "code",
      "metadata": {
        "colab": {
          "base_uri": "https://localhost:8080/"
        },
        "id": "fXGbsfCd0xhx",
        "outputId": "6030fbfc-e853-4e33-d2e4-baec950915e4"
      },
      "source": [
        "lista[0]"
      ],
      "execution_count": null,
      "outputs": [
        {
          "output_type": "execute_result",
          "data": {
            "text/plain": [
              "1"
            ]
          },
          "metadata": {
            "tags": []
          },
          "execution_count": 14
        }
      ]
    },
    {
      "cell_type": "code",
      "metadata": {
        "colab": {
          "base_uri": "https://localhost:8080/"
        },
        "id": "4dgF1-Ju0yia",
        "outputId": "6293799e-9f7a-4b17-ce4d-9dc53b2c34f0"
      },
      "source": [
        "lista[-1]"
      ],
      "execution_count": null,
      "outputs": [
        {
          "output_type": "execute_result",
          "data": {
            "text/plain": [
              "6"
            ]
          },
          "metadata": {
            "tags": []
          },
          "execution_count": 15
        }
      ]
    },
    {
      "cell_type": "code",
      "metadata": {
        "colab": {
          "base_uri": "https://localhost:8080/"
        },
        "id": "MtbK5nX100_p",
        "outputId": "a1025413-f814-4d0e-ff04-6e05ec2f7158"
      },
      "source": [
        "lista[2:]"
      ],
      "execution_count": null,
      "outputs": [
        {
          "output_type": "execute_result",
          "data": {
            "text/plain": [
              "[3, 4, 5, 6]"
            ]
          },
          "metadata": {
            "tags": []
          },
          "execution_count": 16
        }
      ]
    },
    {
      "cell_type": "code",
      "metadata": {
        "colab": {
          "base_uri": "https://localhost:8080/"
        },
        "id": "Hdn627bn02K5",
        "outputId": "5e3b0550-1679-40be-fb3f-c0676291f155"
      },
      "source": [
        "#Pero una lista sola no tiene las funciones aritméticas, por lo que es necesario usar numpy\n",
        "import numpy as np\n",
        "np.array(lista)+10"
      ],
      "execution_count": null,
      "outputs": [
        {
          "output_type": "execute_result",
          "data": {
            "text/plain": [
              "array([11, 12, 13, 14, 15, 16])"
            ]
          },
          "metadata": {
            "tags": []
          },
          "execution_count": 17
        }
      ]
    },
    {
      "cell_type": "code",
      "metadata": {
        "id": "4X8IS_cn3K_k",
        "colab": {
          "base_uri": "https://localhost:8080/"
        },
        "outputId": "7fdb123f-c182-4bcc-d919-8aaf42bc8377"
      },
      "source": [
        "#Este nuevo objeto (n.array(lista)) tiene propiedades matemáticas y dimensiones\n",
        "np.array(lista).shape"
      ],
      "execution_count": null,
      "outputs": [
        {
          "output_type": "execute_result",
          "data": {
            "text/plain": [
              "(6,)"
            ]
          },
          "metadata": {
            "tags": []
          },
          "execution_count": 20
        }
      ]
    },
    {
      "cell_type": "code",
      "metadata": {
        "colab": {
          "base_uri": "https://localhost:8080/"
        },
        "id": "D1NIQX9gfJ4n",
        "outputId": "0026172d-6a3c-4e5c-c228-eda790a2dc83"
      },
      "source": [
        "#Creo una matriz\n",
        "np.array([[1, 2, 3], [4, 5, 6]])"
      ],
      "execution_count": null,
      "outputs": [
        {
          "output_type": "execute_result",
          "data": {
            "text/plain": [
              "array([[1, 2, 3],\n",
              "       [4, 5, 6]])"
            ]
          },
          "metadata": {
            "tags": []
          },
          "execution_count": 23
        }
      ]
    },
    {
      "cell_type": "code",
      "metadata": {
        "id": "CKEBF03AfUNF"
      },
      "source": [
        "#listo!"
      ],
      "execution_count": null,
      "outputs": []
    }
  ]
}