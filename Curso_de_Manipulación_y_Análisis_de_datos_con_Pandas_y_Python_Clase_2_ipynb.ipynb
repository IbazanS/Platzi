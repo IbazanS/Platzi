{
  "nbformat": 4,
  "nbformat_minor": 0,
  "metadata": {
    "colab": {
      "name": "Curso de Manipulación y Análisis de datos con Pandas y Python-Clase 2.ipynb.ipynb",
      "provenance": [],
      "authorship_tag": "ABX9TyPaZ8kBDbbf/b7FaO/+/ZX8",
      "include_colab_link": true
    },
    "kernelspec": {
      "name": "python3",
      "display_name": "Python 3"
    },
    "language_info": {
      "name": "python"
    }
  },
  "cells": [
    {
      "cell_type": "markdown",
      "metadata": {
        "id": "view-in-github",
        "colab_type": "text"
      },
      "source": [
        "<a href=\"https://colab.research.google.com/github/IbazanS/Platzi/blob/main/Curso_de_Manipulaci%C3%B3n_y_An%C3%A1lisis_de_datos_con_Pandas_y_Python_Clase_2_ipynb.ipynb\" target=\"_parent\"><img src=\"https://colab.research.google.com/assets/colab-badge.svg\" alt=\"Open In Colab\"/></a>"
      ]
    },
    {
      "cell_type": "code",
      "metadata": {
        "id": "Ay6nz5D5fwmn"
      },
      "source": [
        "#Series e indexación y selección de datos"
      ],
      "execution_count": null,
      "outputs": []
    },
    {
      "cell_type": "code",
      "metadata": {
        "id": "YpyCScWHf3nu"
      },
      "source": [
        "import pandas as pd\n",
        "import numpy as np\n"
      ],
      "execution_count": null,
      "outputs": []
    },
    {
      "cell_type": "code",
      "metadata": {
        "colab": {
          "base_uri": "https://localhost:8080/"
        },
        "id": "NT8Y7GtpgURm",
        "outputId": "596cd970-ec8f-45b7-bbb2-597324b0ec3f"
      },
      "source": [
        "#Este elemento cuenta con una columna de indexación\n",
        "pd.Series([10, 9, 8, 7, 6])"
      ],
      "execution_count": null,
      "outputs": [
        {
          "output_type": "execute_result",
          "data": {
            "text/plain": [
              "0    10\n",
              "1     9\n",
              "2     8\n",
              "3     7\n",
              "4     6\n",
              "dtype: int64"
            ]
          },
          "metadata": {
            "tags": []
          },
          "execution_count": 6
        }
      ]
    },
    {
      "cell_type": "code",
      "metadata": {
        "id": "7OV301dogbkO"
      },
      "source": [
        "#Defino una variable llamada sr\n",
        "sr = pd.Series([10, 9,8, 7, 6, 5])"
      ],
      "execution_count": null,
      "outputs": []
    },
    {
      "cell_type": "code",
      "metadata": {
        "colab": {
          "base_uri": "https://localhost:8080/"
        },
        "id": "FKGrDYAsguum",
        "outputId": "bba179e4-30d8-4120-a2b1-7415632ca7f2"
      },
      "source": [
        "sr"
      ],
      "execution_count": null,
      "outputs": [
        {
          "output_type": "execute_result",
          "data": {
            "text/plain": [
              "0    10\n",
              "1     9\n",
              "2     8\n",
              "3     7\n",
              "4     6\n",
              "5     5\n",
              "dtype: int64"
            ]
          },
          "metadata": {
            "tags": []
          },
          "execution_count": 8
        }
      ]
    },
    {
      "cell_type": "code",
      "metadata": {
        "colab": {
          "base_uri": "https://localhost:8080/"
        },
        "id": "8MJ6BGfFgwKv",
        "outputId": "e4582d9c-cb77-483a-8c22-e4a90352d87c"
      },
      "source": [
        "#con . veo las propiedades\n",
        "sr.values"
      ],
      "execution_count": null,
      "outputs": [
        {
          "output_type": "execute_result",
          "data": {
            "text/plain": [
              "array([10,  9,  8,  7,  6,  5])"
            ]
          },
          "metadata": {
            "tags": []
          },
          "execution_count": 9
        }
      ]
    },
    {
      "cell_type": "code",
      "metadata": {
        "colab": {
          "base_uri": "https://localhost:8080/"
        },
        "id": "CpL32V06g0UO",
        "outputId": "262d0c54-5b4a-4738-a553-18ea851bb246"
      },
      "source": [
        "#Con index tengo el rango del objeto, va del 0 al elemento 6.\n",
        "sr.index"
      ],
      "execution_count": null,
      "outputs": [
        {
          "output_type": "execute_result",
          "data": {
            "text/plain": [
              "RangeIndex(start=0, stop=6, step=1)"
            ]
          },
          "metadata": {
            "tags": []
          },
          "execution_count": 11
        }
      ]
    },
    {
      "cell_type": "code",
      "metadata": {
        "colab": {
          "base_uri": "https://localhost:8080/"
        },
        "id": "d91m_jeeg2h2",
        "outputId": "1323e891-2adc-46cc-b7b0-1137a05c9098"
      },
      "source": [
        "sr.shape"
      ],
      "execution_count": null,
      "outputs": [
        {
          "output_type": "execute_result",
          "data": {
            "text/plain": [
              "(6,)"
            ]
          },
          "metadata": {
            "tags": []
          },
          "execution_count": 12
        }
      ]
    },
    {
      "cell_type": "code",
      "metadata": {
        "colab": {
          "base_uri": "https://localhost:8080/"
        },
        "id": "ta-w3661g-JO",
        "outputId": "5b25a5df-b798-4056-f0d4-785da145ca3e"
      },
      "source": [
        "#Si se quiere llamar 1 elemento debo hacerlo con []\n",
        "sr[3] # acpa tengo el elemento en 7."
      ],
      "execution_count": null,
      "outputs": [
        {
          "output_type": "execute_result",
          "data": {
            "text/plain": [
              "7"
            ]
          },
          "metadata": {
            "tags": []
          },
          "execution_count": 14
        }
      ]
    },
    {
      "cell_type": "code",
      "metadata": {
        "colab": {
          "base_uri": "https://localhost:8080/"
        },
        "id": "m_0B_hDQhDc2",
        "outputId": "92bd6a27-57c6-4953-ffca-82580bb1f9d0"
      },
      "source": [
        "sr[[0, 2, 4]]"
      ],
      "execution_count": null,
      "outputs": [
        {
          "output_type": "execute_result",
          "data": {
            "text/plain": [
              "0    10\n",
              "2     8\n",
              "4     6\n",
              "dtype: int64"
            ]
          },
          "metadata": {
            "tags": []
          },
          "execution_count": 17
        }
      ]
    },
    {
      "cell_type": "code",
      "metadata": {
        "colab": {
          "base_uri": "https://localhost:8080/"
        },
        "id": "Akv3P0wUhhTv",
        "outputId": "bfc95899-0322-41cb-cda3-77452d0980a2"
      },
      "source": [
        "sr = pd.Series([10, 9, 8, 7, 6], index=['a', 'b', 'c', 'd', 'e'])\n",
        "sr"
      ],
      "execution_count": null,
      "outputs": [
        {
          "output_type": "execute_result",
          "data": {
            "text/plain": [
              "a    10\n",
              "b     9\n",
              "c     8\n",
              "d     7\n",
              "e     6\n",
              "dtype: int64"
            ]
          },
          "metadata": {
            "tags": []
          },
          "execution_count": 19
        }
      ]
    },
    {
      "cell_type": "code",
      "metadata": {
        "colab": {
          "base_uri": "https://localhost:8080/"
        },
        "id": "jr4UExrhiE1n",
        "outputId": "30661b23-51d8-4785-ce07-7a7b47f15839"
      },
      "source": [
        "sr['c']"
      ],
      "execution_count": null,
      "outputs": [
        {
          "output_type": "execute_result",
          "data": {
            "text/plain": [
              "8"
            ]
          },
          "metadata": {
            "tags": []
          },
          "execution_count": 20
        }
      ]
    },
    {
      "cell_type": "code",
      "metadata": {
        "colab": {
          "base_uri": "https://localhost:8080/"
        },
        "id": "xRDRvj2UiRT5",
        "outputId": "95cb40db-e7ab-470b-ddf4-0f18e752aafb"
      },
      "source": [
        "sr[['c', 'd', 'e']]"
      ],
      "execution_count": null,
      "outputs": [
        {
          "output_type": "execute_result",
          "data": {
            "text/plain": [
              "c    8\n",
              "d    7\n",
              "e    6\n",
              "dtype: int64"
            ]
          },
          "metadata": {
            "tags": []
          },
          "execution_count": 22
        }
      ]
    },
    {
      "cell_type": "code",
      "metadata": {
        "colab": {
          "base_uri": "https://localhost:8080/"
        },
        "id": "Tv8pxdW1iU3S",
        "outputId": "91cf388e-49c2-487e-80c3-2df6e2a5765f"
      },
      "source": [
        "#Pedir un rango\n",
        "sr['b':'e']"
      ],
      "execution_count": null,
      "outputs": [
        {
          "output_type": "execute_result",
          "data": {
            "text/plain": [
              "b    9\n",
              "c    8\n",
              "d    7\n",
              "e    6\n",
              "dtype: int64"
            ]
          },
          "metadata": {
            "tags": []
          },
          "execution_count": 23
        }
      ]
    },
    {
      "cell_type": "markdown",
      "metadata": {
        "id": "sESm0mP1ipFc"
      },
      "source": [
        "**Diccionario:** permite almacenar una cadena de cualquier tipo de valor\n",
        "\n",
        "Se define con {}\n",
        "\n",
        "En el ejemplo siguiente haremos un diccionario donde las llaves serán los países."
      ]
    },
    {
      "cell_type": "code",
      "metadata": {
        "id": "-oHsPNOsigh8"
      },
      "source": [
        "#Defino mi diccionario dict_data\n",
        "dict_data={'CO':100, 'MX': 300, 'CHI': 200} #Tengo ciertos elementos asociados a unas llaves (países)\n"
      ],
      "execution_count": null,
      "outputs": []
    },
    {
      "cell_type": "code",
      "metadata": {
        "colab": {
          "base_uri": "https://localhost:8080/"
        },
        "id": "XkBqsOhKi2hh",
        "outputId": "3ebbabec-66cf-4093-d1f1-48466170a816"
      },
      "source": [
        "dict_data.keys()"
      ],
      "execution_count": null,
      "outputs": [
        {
          "output_type": "execute_result",
          "data": {
            "text/plain": [
              "dict_keys(['CO', 'MX', 'CHI'])"
            ]
          },
          "metadata": {
            "tags": []
          },
          "execution_count": 31
        }
      ]
    },
    {
      "cell_type": "code",
      "metadata": {
        "colab": {
          "base_uri": "https://localhost:8080/"
        },
        "id": "gXB9TrGzi6IC",
        "outputId": "7f347f86-1bc0-42ba-ef05-e90243739826"
      },
      "source": [
        "dict_data['MX']"
      ],
      "execution_count": null,
      "outputs": [
        {
          "output_type": "execute_result",
          "data": {
            "text/plain": [
              "300"
            ]
          },
          "metadata": {
            "tags": []
          },
          "execution_count": 32
        }
      ]
    },
    {
      "cell_type": "markdown",
      "metadata": {
        "id": "4NluSyYIjbnP"
      },
      "source": [
        "Diccionario y listas son parecidos.\n",
        "Al descargar datos de páginas vienen en formato JSON."
      ]
    },
    {
      "cell_type": "code",
      "metadata": {
        "colab": {
          "base_uri": "https://localhost:8080/"
        },
        "id": "ZM21PfBnjRCJ",
        "outputId": "7f22d779-8d66-4f26-f47e-97b017b2c439"
      },
      "source": [
        "#Puedo transformar mi diccionario en una variable de pandas:\n",
        "pd.Series(dict_data)"
      ],
      "execution_count": null,
      "outputs": [
        {
          "output_type": "execute_result",
          "data": {
            "text/plain": [
              "CO     100\n",
              "MX     300\n",
              "CHI    200\n",
              "dtype: int64"
            ]
          },
          "metadata": {
            "tags": []
          },
          "execution_count": 33
        }
      ]
    },
    {
      "cell_type": "code",
      "metadata": {
        "colab": {
          "base_uri": "https://localhost:8080/"
        },
        "id": "xq5lZMaNjmtb",
        "outputId": "f5a3e71b-f5f0-4ca2-b87c-be082c610295"
      },
      "source": [
        "pd.Series(dict_data, index=['CO', 'MX', 'CHI', 'PE'])"
      ],
      "execution_count": null,
      "outputs": [
        {
          "output_type": "execute_result",
          "data": {
            "text/plain": [
              "CO     100.0\n",
              "MX     300.0\n",
              "CHI    200.0\n",
              "PE       NaN\n",
              "dtype: float64"
            ]
          },
          "metadata": {
            "tags": []
          },
          "execution_count": 34
        }
      ]
    },
    {
      "cell_type": "code",
      "metadata": {
        "colab": {
          "base_uri": "https://localhost:8080/"
        },
        "id": "9y_VeQNzjueK",
        "outputId": "6ac95f20-54d6-482f-c073-436089b8b3e8"
      },
      "source": [
        "#nan: objeto nulo que también cumple operaciones matemáticas.\n",
        "np.nan + 10"
      ],
      "execution_count": null,
      "outputs": [
        {
          "output_type": "execute_result",
          "data": {
            "text/plain": [
              "nan"
            ]
          },
          "metadata": {
            "tags": []
          },
          "execution_count": 35
        }
      ]
    },
    {
      "cell_type": "code",
      "metadata": {
        "id": "IsRAYSC2j5eT"
      },
      "source": [
        "#Cualquier operación numérica que se haga con una variable nula dará una var nula\n",
        "sr = pd.Series(dict_data, index=['CO', 'MX', 'CHI', 'PE'])"
      ],
      "execution_count": null,
      "outputs": []
    },
    {
      "cell_type": "code",
      "metadata": {
        "colab": {
          "base_uri": "https://localhost:8080/"
        },
        "id": "-r9G1He2kCdb",
        "outputId": "980da0ce-b9f8-4188-93da-81327795c67b"
      },
      "source": [
        "sr"
      ],
      "execution_count": null,
      "outputs": [
        {
          "output_type": "execute_result",
          "data": {
            "text/plain": [
              "CO     100.0\n",
              "MX     300.0\n",
              "CHI    200.0\n",
              "PE       NaN\n",
              "dtype: float64"
            ]
          },
          "metadata": {
            "tags": []
          },
          "execution_count": 38
        }
      ]
    },
    {
      "cell_type": "code",
      "metadata": {
        "colab": {
          "base_uri": "https://localhost:8080/"
        },
        "id": "xPcmRPZWkE77",
        "outputId": "8d0585ec-0595-490e-c3d5-1502c4d833a6"
      },
      "source": [
        "sr.isnull()"
      ],
      "execution_count": null,
      "outputs": [
        {
          "output_type": "execute_result",
          "data": {
            "text/plain": [
              "CO     False\n",
              "MX     False\n",
              "CHI    False\n",
              "PE      True\n",
              "dtype: bool"
            ]
          },
          "metadata": {
            "tags": []
          },
          "execution_count": 40
        }
      ]
    },
    {
      "cell_type": "code",
      "metadata": {
        "colab": {
          "base_uri": "https://localhost:8080/"
        },
        "id": "FSWD2zD3kGnb",
        "outputId": "3f9a002b-5a75-4189-bf68-7bc54ce99579"
      },
      "source": [
        "sr.notnull()"
      ],
      "execution_count": null,
      "outputs": [
        {
          "output_type": "execute_result",
          "data": {
            "text/plain": [
              "CO      True\n",
              "MX      True\n",
              "CHI     True\n",
              "PE     False\n",
              "dtype: bool"
            ]
          },
          "metadata": {
            "tags": []
          },
          "execution_count": 41
        }
      ]
    },
    {
      "cell_type": "code",
      "metadata": {
        "id": "iQLdmnZOkJbL"
      },
      "source": [
        ""
      ],
      "execution_count": null,
      "outputs": []
    }
  ]
}